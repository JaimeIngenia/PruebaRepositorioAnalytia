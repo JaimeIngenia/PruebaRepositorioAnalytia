{
 "cells": [
  {
   "cell_type": "markdown",
   "id": "dedc614e",
   "metadata": {},
   "source": [
    "# C2_S3 · Evaluación — Manejo de errores\n",
    "\n",
    "**Actividad**: `C2_S3` · **Curso**: Web Scraping (Analyt‑IA)"
   ]
  },
  {
   "cell_type": "code",
   "execution_count": 5,
   "id": "ab8d33e4",
   "metadata": {},
   "outputs": [
    {
     "name": "stdout",
     "output_type": "stream",
     "text": [
      "Asunto sugerido: WSCRAP-C2_S3-tu_correo@dominio.com-CO\n"
     ]
    }
   ],
   "source": [
    "STUDENT_ID = \"tu_correo@dominio.com\"\n",
    "COUNTRY    = \"CO\"\n",
    "\n",
    "ACTIVITY_ID  = \"C2_S3\"\n",
    "MAIL_SUBJECT = f\"WSCRAP-{ACTIVITY_ID}-{STUDENT_ID}-{COUNTRY}\"\n",
    "print(\"Asunto sugerido:\", MAIL_SUBJECT)\n"
   ]
  },
  {
   "cell_type": "markdown",
   "id": "37b22170",
   "metadata": {},
   "source": [
    "### ✅ Ejercicio (E1)\n",
    "Escribe el **nombre exacto** de la función de `requests` que lanza una excepción si la respuesta es 4xx/5xx.\n",
    "\n",
    "Pista: `response.__________()`\n"
   ]
  },
  {
   "cell_type": "code",
   "execution_count": 6,
   "id": "11f244d2",
   "metadata": {},
   "outputs": [],
   "source": [
    "# Escribe el nombre exacto en minúsculas y con guiones bajos\n",
    "NOMBRE_FUNCION = \"\"\n"
   ]
  },
  {
   "cell_type": "code",
   "execution_count": 7,
   "id": "a22a31ca",
   "metadata": {},
   "outputs": [
    {
     "name": "stdout",
     "output_type": "stream",
     "text": [
      "Resultados: {'E1': False} | SCORE: 0 / 1\n",
      "✅ Archivos generados: grading.json, submission.json\n"
     ]
    }
   ],
   "source": [
    "import json\n",
    "ok = isinstance(NOMBRE_FUNCION, str) and NOMBRE_FUNCION.strip().lower() == \"raise_for_status\"\n",
    "\n",
    "RESULTS = {\"E1\": bool(ok)}\n",
    "SCORE   = int(ok)\n",
    "MAX     = 1\n",
    "\n",
    "print(\"Resultados:\", RESULTS, \"| SCORE:\", SCORE, \"/\", MAX)\n",
    "\n",
    "grading = {\"activity_id\": \"C2_S3\", \"student_id\": STUDENT_ID, \"country\": COUNTRY,\n",
    "           \"results\": RESULTS, \"score\": SCORE, \"max\": MAX}\n",
    "submission = {\"activity_id\": \"C2_S3\", \"student_id\": STUDENT_ID, \"country\": COUNTRY,\n",
    "              \"answers\": RESULTS}\n",
    "\n",
    "with open(\"grading.json\",\"w\",encoding=\"utf-8\") as f: json.dump(grading, f, ensure_ascii=False, indent=2)\n",
    "with open(\"submission.json\",\"w\",encoding=\"utf-8\") as f: json.dump(submission, f, ensure_ascii=False, indent=2)\n",
    "print(\"✅ Archivos generados: grading.json, submission.json\")\n"
   ]
  }
 ],
 "metadata": {
  "kernelspec": {
   "display_name": "KernelEstudiante",
   "language": "python",
   "name": "kernelestudiante"
  },
  "language_info": {
   "codemirror_mode": {
    "name": "ipython",
    "version": 3
   },
   "file_extension": ".py",
   "mimetype": "text/x-python",
   "name": "python",
   "nbconvert_exporter": "python",
   "pygments_lexer": "ipython3",
   "version": "3.11.0"
  }
 },
 "nbformat": 4,
 "nbformat_minor": 5
}
